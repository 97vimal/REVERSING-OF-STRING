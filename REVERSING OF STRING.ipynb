{
 "cells": [
  {
   "cell_type": "markdown",
   "id": "f8820f5a",
   "metadata": {},
   "source": [
    "REVERSING OF STRING\n"
   ]
  },
  {
   "cell_type": "code",
   "execution_count": 1,
   "id": "00f5105f",
   "metadata": {},
   "outputs": [
    {
     "name": "stdout",
     "output_type": "stream",
     "text": [
      "enter the string: EDYODA\n",
      "EDYODA\n",
      "ADOYDE\n"
     ]
    }
   ],
   "source": [
    "n = str(input('enter the string: '))\n",
    "print(n)\n",
    "print(n[-1::-1])"
   ]
  },
  {
   "cell_type": "code",
   "execution_count": null,
   "id": "b6cfe627",
   "metadata": {},
   "outputs": [],
   "source": []
  },
  {
   "cell_type": "code",
   "execution_count": null,
   "id": "6972c92b",
   "metadata": {},
   "outputs": [],
   "source": []
  },
  {
   "cell_type": "code",
   "execution_count": 2,
   "id": "3c9b8531",
   "metadata": {},
   "outputs": [
    {
     "name": "stdout",
     "output_type": "stream",
     "text": [
      "enter the name: VIMAL CHANDRAN R V\n"
     ]
    }
   ],
   "source": [
    "\n",
    "x = str(input('enter the name: '))\n"
   ]
  },
  {
   "cell_type": "code",
   "execution_count": 3,
   "id": "df66cc0a",
   "metadata": {},
   "outputs": [
    {
     "name": "stdout",
     "output_type": "stream",
     "text": [
      "VIMAL CHANDRAN R V\n"
     ]
    }
   ],
   "source": [
    "print(x)\n"
   ]
  },
  {
   "cell_type": "code",
   "execution_count": 4,
   "id": "6d42bb3e",
   "metadata": {},
   "outputs": [
    {
     "name": "stdout",
     "output_type": "stream",
     "text": [
      "V R NARDNAHC LAMIV\n"
     ]
    }
   ],
   "source": [
    "\n",
    "print(x[-1::-1])\n"
   ]
  },
  {
   "cell_type": "code",
   "execution_count": null,
   "id": "d234e721",
   "metadata": {},
   "outputs": [],
   "source": []
  }
 ],
 "metadata": {
  "kernelspec": {
   "display_name": "Python 3 (ipykernel)",
   "language": "python",
   "name": "python3"
  },
  "language_info": {
   "codemirror_mode": {
    "name": "ipython",
    "version": 3
   },
   "file_extension": ".py",
   "mimetype": "text/x-python",
   "name": "python",
   "nbconvert_exporter": "python",
   "pygments_lexer": "ipython3",
   "version": "3.9.7"
  }
 },
 "nbformat": 4,
 "nbformat_minor": 5
}
